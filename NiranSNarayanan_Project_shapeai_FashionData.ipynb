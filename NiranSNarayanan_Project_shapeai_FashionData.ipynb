{
  "nbformat": 4,
  "nbformat_minor": 0,
  "metadata": {
    "colab": {
      "name": "NiranSNarayanan_Project_shapeai_FashionData.ipynb",
      "provenance": [],
      "include_colab_link": true
    },
    "kernelspec": {
      "name": "python3",
      "display_name": "Python 3"
    }
  },
  "cells": [
    {
      "cell_type": "markdown",
      "metadata": {
        "id": "view-in-github",
        "colab_type": "text"
      },
      "source": [
        "<a href=\"https://colab.research.google.com/github/nirans2002/fasiondataset/blob/main/NiranSNarayanan_Project_shapeai_FashionData.ipynb\" target=\"_parent\"><img src=\"https://colab.research.google.com/assets/colab-badge.svg\" alt=\"Open In Colab\"/></a>"
      ]
    },
    {
      "cell_type": "code",
      "metadata": {
        "id": "yn-Aep8zfngj"
      },
      "source": [
        "import tensorflow as tf\n",
        "from tensorflow.keras.models import Sequential\n",
        "from tensorflow.keras.layers import Input, Dense\n",
        "import numpy as np"
      ],
      "execution_count": null,
      "outputs": []
    },
    {
      "cell_type": "code",
      "metadata": {
        "id": "Wg4AI_2ahVf3"
      },
      "source": [
        "## IMPORTING DATASET\n",
        "\n",
        "from keras.datasets import fashion_mnist\n",
        "\n",
        "data = tf.keras.datasets.fashion_mnist\n"
      ],
      "execution_count": null,
      "outputs": []
    },
    {
      "cell_type": "code",
      "metadata": {
        "colab": {
          "base_uri": "https://localhost:8080/"
        },
        "id": "X0ZUaZ3phfRY",
        "outputId": "42329979-5a2f-497d-c4ac-2f76640f4efc"
      },
      "source": [
        "(X_train, y_train), (X_test, y_test) = fashion_mnist.load_data()"
      ],
      "execution_count": null,
      "outputs": [
        {
          "output_type": "stream",
          "text": [
            "Downloading data from https://storage.googleapis.com/tensorflow/tf-keras-datasets/train-labels-idx1-ubyte.gz\n",
            "32768/29515 [=================================] - 0s 0us/step\n",
            "Downloading data from https://storage.googleapis.com/tensorflow/tf-keras-datasets/train-images-idx3-ubyte.gz\n",
            "26427392/26421880 [==============================] - 0s 0us/step\n",
            "Downloading data from https://storage.googleapis.com/tensorflow/tf-keras-datasets/t10k-labels-idx1-ubyte.gz\n",
            "8192/5148 [===============================================] - 0s 0us/step\n",
            "Downloading data from https://storage.googleapis.com/tensorflow/tf-keras-datasets/t10k-images-idx3-ubyte.gz\n",
            "4423680/4422102 [==============================] - 0s 0us/step\n"
          ],
          "name": "stdout"
        }
      ]
    },
    {
      "cell_type": "code",
      "metadata": {
        "colab": {
          "base_uri": "https://localhost:8080/"
        },
        "id": "4Hw_ulYSidXT",
        "outputId": "da0de68e-9b44-454f-83a0-2aed0092d483"
      },
      "source": [
        "X_train[0].shape"
      ],
      "execution_count": null,
      "outputs": [
        {
          "output_type": "execute_result",
          "data": {
            "text/plain": [
              "(28, 28)"
            ]
          },
          "metadata": {
            "tags": []
          },
          "execution_count": 4
        }
      ]
    },
    {
      "cell_type": "code",
      "metadata": {
        "id": "7gvr6F0jisI6"
      },
      "source": [
        "X_train = X_train.reshape((X_train.shape[0], 28*28)).astype('float32')\n",
        "X_test = X_test.reshape((X_test.shape[0], 28*28)).astype('float32')\n"
      ],
      "execution_count": null,
      "outputs": []
    },
    {
      "cell_type": "code",
      "metadata": {
        "id": "57YLIbqcitxS"
      },
      "source": [
        "# Normalizing values from 0-255 to 0-1\n",
        "X_train = X_train / 255\n",
        "X_test = X_test / 255"
      ],
      "execution_count": null,
      "outputs": []
    },
    {
      "cell_type": "code",
      "metadata": {
        "colab": {
          "base_uri": "https://localhost:8080/"
        },
        "id": "GNNp0Y1Di4kZ",
        "outputId": "f3b9f9c1-5324-4c58-da37-75094ccee34f"
      },
      "source": [
        "from keras.utils import np_utils\n",
        "\n",
        "y_train = np_utils.to_categorical(y_train)\n",
        "y_test = np_utils.to_categorical(y_test)\n",
        "num_classes = y_test.shape[1]\n",
        "num_classes"
      ],
      "execution_count": null,
      "outputs": [
        {
          "output_type": "execute_result",
          "data": {
            "text/plain": [
              "10"
            ]
          },
          "metadata": {
            "tags": []
          },
          "execution_count": 7
        }
      ]
    },
    {
      "cell_type": "code",
      "metadata": {
        "id": "Y6K50KAJi72x"
      },
      "source": [
        "from keras.models import Sequential\n",
        "from keras.layers import Dense\n",
        "from keras.layers import Dropout"
      ],
      "execution_count": null,
      "outputs": []
    },
    {
      "cell_type": "code",
      "metadata": {
        "id": "31e8yeiVi-UX"
      },
      "source": [
        "model = Sequential()\n",
        "model.add(Dense(128, input_dim = 28*28, activation='relu'))  ## hidden layer 1\n",
        "model.add(Dense(256, activation='relu'))  ## hidden layer 2\n",
        "model.add(Dense(10, activation='softmax'))  ## output layer, 10 = number of classes"
      ],
      "execution_count": null,
      "outputs": []
    },
    {
      "cell_type": "code",
      "metadata": {
        "id": "J88izK9sjRD7"
      },
      "source": [
        "model.compile(loss='categorical_crossentropy', optimizer='adam', metrics=['accuracy'])"
      ],
      "execution_count": null,
      "outputs": []
    },
    {
      "cell_type": "code",
      "metadata": {
        "colab": {
          "base_uri": "https://localhost:8080/"
        },
        "id": "n_YwFKV3jVR7",
        "outputId": "c3b62461-102d-4aad-d1ae-4faccb444269"
      },
      "source": [
        "model.summary()"
      ],
      "execution_count": null,
      "outputs": [
        {
          "output_type": "stream",
          "text": [
            "Model: \"sequential\"\n",
            "_________________________________________________________________\n",
            "Layer (type)                 Output Shape              Param #   \n",
            "=================================================================\n",
            "dense (Dense)                (None, 128)               100480    \n",
            "_________________________________________________________________\n",
            "dense_1 (Dense)              (None, 256)               33024     \n",
            "_________________________________________________________________\n",
            "dense_2 (Dense)              (None, 10)                2570      \n",
            "=================================================================\n",
            "Total params: 136,074\n",
            "Trainable params: 136,074\n",
            "Non-trainable params: 0\n",
            "_________________________________________________________________\n"
          ],
          "name": "stdout"
        }
      ]
    },
    {
      "cell_type": "code",
      "metadata": {
        "colab": {
          "base_uri": "https://localhost:8080/"
        },
        "id": "BiqYVPvDjXn8",
        "outputId": "682c6cef-5f3f-419a-9df6-e34701286f1e"
      },
      "source": [
        "model.fit(X_train, y_train, validation_split=0.2 , epochs=20, batch_size=500)"
      ],
      "execution_count": null,
      "outputs": [
        {
          "output_type": "stream",
          "text": [
            "Epoch 1/20\n",
            "96/96 [==============================] - 1s 12ms/step - loss: 0.1201 - accuracy: 0.9547 - val_loss: 0.3331 - val_accuracy: 0.9022\n",
            "Epoch 2/20\n",
            "96/96 [==============================] - 1s 12ms/step - loss: 0.1072 - accuracy: 0.9599 - val_loss: 0.3408 - val_accuracy: 0.9010\n",
            "Epoch 3/20\n",
            "96/96 [==============================] - 1s 11ms/step - loss: 0.1033 - accuracy: 0.9615 - val_loss: 0.3412 - val_accuracy: 0.9017\n",
            "Epoch 4/20\n",
            "96/96 [==============================] - 1s 11ms/step - loss: 0.1003 - accuracy: 0.9632 - val_loss: 0.3492 - val_accuracy: 0.9007\n",
            "Epoch 5/20\n",
            "96/96 [==============================] - 1s 12ms/step - loss: 0.0978 - accuracy: 0.9639 - val_loss: 0.3476 - val_accuracy: 0.8997\n",
            "Epoch 6/20\n",
            "96/96 [==============================] - 1s 13ms/step - loss: 0.0959 - accuracy: 0.9644 - val_loss: 0.3555 - val_accuracy: 0.9007\n",
            "Epoch 7/20\n",
            "96/96 [==============================] - 1s 12ms/step - loss: 0.0937 - accuracy: 0.9655 - val_loss: 0.3555 - val_accuracy: 0.9011\n",
            "Epoch 8/20\n",
            "96/96 [==============================] - 1s 12ms/step - loss: 0.0914 - accuracy: 0.9671 - val_loss: 0.3645 - val_accuracy: 0.8997\n",
            "Epoch 9/20\n",
            "96/96 [==============================] - 1s 11ms/step - loss: 0.0892 - accuracy: 0.9678 - val_loss: 0.3675 - val_accuracy: 0.8988\n",
            "Epoch 10/20\n",
            "96/96 [==============================] - 1s 12ms/step - loss: 0.0884 - accuracy: 0.9678 - val_loss: 0.3697 - val_accuracy: 0.8993\n",
            "Epoch 11/20\n",
            "96/96 [==============================] - 1s 11ms/step - loss: 0.0857 - accuracy: 0.9690 - val_loss: 0.3725 - val_accuracy: 0.8997\n",
            "Epoch 12/20\n",
            "96/96 [==============================] - 1s 12ms/step - loss: 0.0837 - accuracy: 0.9702 - val_loss: 0.3839 - val_accuracy: 0.8995\n",
            "Epoch 13/20\n",
            "96/96 [==============================] - 1s 12ms/step - loss: 0.0819 - accuracy: 0.9704 - val_loss: 0.3819 - val_accuracy: 0.8997\n",
            "Epoch 14/20\n",
            "96/96 [==============================] - 1s 11ms/step - loss: 0.0798 - accuracy: 0.9710 - val_loss: 0.3880 - val_accuracy: 0.8993\n",
            "Epoch 15/20\n",
            "96/96 [==============================] - 1s 12ms/step - loss: 0.0780 - accuracy: 0.9719 - val_loss: 0.3938 - val_accuracy: 0.8995\n",
            "Epoch 16/20\n",
            "96/96 [==============================] - 1s 13ms/step - loss: 0.0760 - accuracy: 0.9724 - val_loss: 0.3975 - val_accuracy: 0.8994\n",
            "Epoch 17/20\n",
            "96/96 [==============================] - 1s 12ms/step - loss: 0.0736 - accuracy: 0.9738 - val_loss: 0.3986 - val_accuracy: 0.9007\n",
            "Epoch 18/20\n",
            "96/96 [==============================] - 1s 12ms/step - loss: 0.0716 - accuracy: 0.9749 - val_loss: 0.4162 - val_accuracy: 0.8973\n",
            "Epoch 19/20\n",
            "96/96 [==============================] - 1s 12ms/step - loss: 0.0702 - accuracy: 0.9752 - val_loss: 0.4170 - val_accuracy: 0.8984\n",
            "Epoch 20/20\n",
            "96/96 [==============================] - 1s 12ms/step - loss: 0.0682 - accuracy: 0.9763 - val_loss: 0.4325 - val_accuracy: 0.8971\n"
          ],
          "name": "stdout"
        },
        {
          "output_type": "execute_result",
          "data": {
            "text/plain": [
              "<tensorflow.python.keras.callbacks.History at 0x7f5f672612b0>"
            ]
          },
          "metadata": {
            "tags": []
          },
          "execution_count": 13
        }
      ]
    },
    {
      "cell_type": "code",
      "metadata": {
        "colab": {
          "base_uri": "https://localhost:8080/"
        },
        "id": "KH5WNe5VjbMT",
        "outputId": "cc1091b8-f2ae-4d9b-ea8c-b12d7056166f"
      },
      "source": [
        "scores = model.evaluate(X_test, y_test)\n",
        "print(scores)   ## returns loss and accuracy"
      ],
      "execution_count": null,
      "outputs": [
        {
          "output_type": "stream",
          "text": [
            "313/313 [==============================] - 1s 2ms/step - loss: 0.4690 - accuracy: 0.8929\n",
            "[0.4689827561378479, 0.8928999900817871]\n"
          ],
          "name": "stdout"
        }
      ]
    }
  ]
}